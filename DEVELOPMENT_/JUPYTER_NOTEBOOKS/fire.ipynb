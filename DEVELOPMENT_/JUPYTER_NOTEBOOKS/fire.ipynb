{
 "cells": [
  {
   "cell_type": "code",
   "execution_count": 1,
   "metadata": {
    "collapsed": true,
    "pycharm": {
     "is_executing": false
    }
   },
   "outputs": [
    {
     "name": "stderr",
     "text": [
      "\u001b[1m\u001b[31mERROR: \u001b[0mCannot find key: -f\n",
      "Usage: ipykernel_launcher.py <group|command>\n",
      "  available groups:      In | Out | exit | quit | fire\n",
      "  available commands:    get_ipython | say_hello\n",
      "\n",
      "For detailed information on this command, run:\n",
      "  ipykernel_launcher.py --help\n",
      "/home/dkm/anaconda3/envs/Terminal_Illness/lib/python3.7/site-packages/IPython/core/interactiveshell.py:3327: UserWarning: To exit: use 'exit', 'quit', or Ctrl-D.\n",
      "  warn(\"To exit: use 'exit', 'quit', or Ctrl-D.\", stacklevel=1)\n"
     ],
     "output_type": "stream"
    },
    {
     "traceback": [
      "An exception has occurred, use %tb to see the full traceback.\n",
      "\u001b[0;31mFireExit\u001b[0m\u001b[0;31m:\u001b[0m 2\n"
     ],
     "ename": "FireExit",
     "evalue": "2",
     "output_type": "error"
    }
   ],
   "source": [
    "import fire\n",
    "\n",
    "\n",
    "def say_hello(name=''):\n",
    "    return 'Hello {}!'.format(name)\n",
    "\n",
    "\n",
    "if __name__ == '__main__':\n",
    "  fire.Fire()\n",
    "Your post has been changed because invalid HTML was found in the message body. The invalid HTML has been removed. Please review the message and submit the message when you are satisfied.\n",
    "<p><span>Ya, unfortunately, GiftCard is only available for Shopify Plus plans, and even then it's still not accessible through GraphQL, only the REST API.</span></p>\n",
    "<p><span>However, depending on what you want to accomplish; you can still do quite a bit with the Storefront API.</span></p>"
   ]
  }
 ],
 "metadata": {
  "kernelspec": {
   "display_name": "Python 3",
   "language": "python",
   "name": "python3"
  },
  "language_info": {
   "codemirror_mode": {
    "name": "ipython",
    "version": 2
   },
   "file_extension": ".py",
   "mimetype": "text/x-python",
   "name": "python",
   "nbconvert_exporter": "python",
   "pygments_lexer": "ipython2",
   "version": "2.7.6"
  },
  "pycharm": {
   "stem_cell": {
    "cell_type": "raw",
    "source": [],
    "metadata": {
     "collapsed": false
    }
   }
  }
 },
 "nbformat": 4,
 "nbformat_minor": 0
}
