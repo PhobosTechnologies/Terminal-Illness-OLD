{
 "cells": [
  {
   "cell_type": "code",
   "execution_count": null,
   "metadata": {
    "collapsed": true
   },
   "outputs": [],
   "source": [
    "# The ‘decorated’ function or method will replace the original ‘undecorated’ function or method. Because functions are first-class objects in Python, this can be done ‘manually’, but using the @decorator syntax is clearer and thus preferred.\n",
    "def foo():\n",
    "    pass\n",
    "    # do something\n",
    "\n",
    "def decorator(func):\n",
    "    # manipulate func\n",
    "    return func\n",
    "\n",
    "foo = decorator(foo)  # Manually decorate\n",
    "\n",
    "@decorator\n",
    "def bar():\n",
    "    pass\n",
    "    # Do something\n",
    "# bar() is decorated"
   ]
  },
  {
   "cell_type": "code",
   "execution_count": null,
   "outputs": [],
   "source": [
    "# Class style\n",
    "# context manager\n",
    "\n",
    "class CustomOpen(object):\n",
    "    def __init__(self, filename):\n",
    "        self.file = open(filename)\n",
    "\n",
    "    def __enter__(self):\n",
    "        return self.file\n",
    "\n",
    "    def __exit__(self, ctx_type, ctx_value, ctx_traceback):\n",
    "        self.file.close()\n",
    "\n",
    "with CustomOpen('file') as f:\n",
    "    contents = f.read()\n"
   ],
   "metadata": {
    "collapsed": false,
    "pycharm": {
     "name": "#%%\n"
    }
   }
  },
  {
   "cell_type": "code",
   "execution_count": null,
   "outputs": [],
   "source": [
    "# Function style\n",
    "# context manager\n",
    "from contextlib import contextmanager\n",
    "\n",
    "@contextmanager\n",
    "def custom_open(filename):\n",
    "    f = open(filename)\n",
    "    try:\n",
    "        yield f\n",
    "    finally:\n",
    "        f.close()\n",
    "\n",
    "with custom_open('file') as f:\n",
    "    contents = f.read()\n"
   ],
   "metadata": {
    "collapsed": false,
    "pycharm": {
     "name": "#%%\n"
    }
   }
  },
  {
   "cell_type": "code",
   "execution_count": null,
   "outputs": [],
   "source": [
    "#!/bin/bash\n",
    "#!/usr/bin/env bash\n",
    "set -e\n",
    "[ -n \"$RBENV_DEBUG\" ] && set -x\n",
    "\n",
    "program=\"${0##*/}\"\n",
    "if [ \"$program\" = \"ruby\" ]; then\n",
    "  for arg; do\n",
    "    case \"$arg\" in\n",
    "      -e* | -- ) break ;;\n",
    "      */* )\n",
    "        if [ -f \"$arg\" ]; then\n",
    "          export RBENV_DIR=\"${arg%/*}\"\n",
    "          break\n",
    "        fi\n",
    "        ;;\n",
    "    esac\n",
    "  done\n",
    "fi\n",
    "\n",
    "export RBENV_ROOT=\"/Users/shot/.rbenv\"\n",
    "exec \"/usr/local/Cellar/rbenv/1.0.0/libexec/rbenv\" exec \"$program\"   \"$@\"\n",
    "\n"
   ],
   "metadata": {
    "collapsed": false,
    "pycharm": {
     "name": "#%%\n"
    }
   }
  }
 ],
 "metadata": {
  "kernelspec": {
   "display_name": "Python 3",
   "language": "python",
   "name": "python3"
  },
  "language_info": {
   "codemirror_mode": {
    "name": "ipython",
    "version": 2
   },
   "file_extension": ".py",
   "mimetype": "text/x-python",
   "name": "python",
   "nbconvert_exporter": "python",
   "pygments_lexer": "ipython2",
   "version": "2.7.6"
  },
  "pycharm": {
   "stem_cell": {
    "cell_type": "raw",
    "source": [],
    "metadata": {
     "collapsed": false
    }
   }
  }
 },
 "nbformat": 4,
 "nbformat_minor": 0
}
