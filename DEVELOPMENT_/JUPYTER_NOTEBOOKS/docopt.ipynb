{
 "cells": [
  {
   "cell_type": "code",
   "execution_count": null,
   "metadata": {
    "collapsed": true
   },
   "outputs": [],
   "source": [
    "# Turns your docstrings into command help\n",
    "\"\"\"HELLO CLI\n",
    "\n",
    "Usage:\n",
    "    hello.py\n",
    "    hello.py <name>\n",
    "    hello.py -h|--help\n",
    "    hello.py -v|--version\n",
    "\n",
    "Options:\n",
    "    <name>  Optional name argument.\n",
    "    -h --help  Show this screen.\n",
    "    -v --version  Show version.\n",
    "\"\"\"\n",
    "\n",
    "from docopt import docopt\n",
    "\n",
    "def say_hello(name):\n",
    "    return(\"Hello {}!\".format(name))\n",
    "\n",
    "\n",
    "if __name__ == '__main__':\n",
    "    arguments = docopt(__doc__, version='DEMO 1.0')\n",
    "    if arguments['<name>']:\n",
    "        print(say_hello(arguments['<name>']))\n",
    "    else:\n",
    "        print(arguments)\n",
    "\n",
    "\n"
   ]
  }
 ],
 "metadata": {
  "kernelspec": {
   "display_name": "Python 3",
   "language": "python",
   "name": "python3"
  },
  "language_info": {
   "codemirror_mode": {
    "name": "ipython",
    "version": 2
   },
   "file_extension": ".py",
   "mimetype": "text/x-python",
   "name": "python",
   "nbconvert_exporter": "python",
   "pygments_lexer": "ipython2",
   "version": "2.7.6"
  },
  "pycharm": {
   "stem_cell": {
    "cell_type": "raw",
    "source": [],
    "metadata": {
     "collapsed": false
    }
   }
  }
 },
 "nbformat": 4,
 "nbformat_minor": 0
}
